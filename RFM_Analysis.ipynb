{
  "nbformat": 4,
  "nbformat_minor": 0,
  "metadata": {
    "colab": {
      "provenance": [],
      "mount_file_id": "199oDXMDpdkdV7wzLkIx4kXSW9gOlKAXy",
      "authorship_tag": "ABX9TyM2ySZik1nXdoxiFN6Te0Q9",
      "include_colab_link": true
    },
    "kernelspec": {
      "name": "python3",
      "display_name": "Python 3"
    },
    "language_info": {
      "name": "python"
    }
  },
  "cells": [
    {
      "cell_type": "markdown",
      "metadata": {
        "id": "view-in-github",
        "colab_type": "text"
      },
      "source": [
        "<a href=\"https://colab.research.google.com/github/bonangira/bonangira/blob/main/RFM_Analysis.ipynb\" target=\"_parent\"><img src=\"https://colab.research.google.com/assets/colab-badge.svg\" alt=\"Open In Colab\"/></a>"
      ]
    },
    {
      "cell_type": "code",
      "execution_count": 17,
      "metadata": {
        "colab": {
          "base_uri": "https://localhost:8080/"
        },
        "id": "cWC1GX9gaLNk",
        "outputId": "bfe4ff72-5fa8-4974-9dc5-0a672567facf"
      },
      "outputs": [
        {
          "output_type": "stream",
          "name": "stdout",
          "text": [
            "Requirement already satisfied: pyspark in /usr/local/lib/python3.10/dist-packages (3.5.2)\n",
            "Requirement already satisfied: py4j==0.10.9.7 in /usr/local/lib/python3.10/dist-packages (from pyspark) (0.10.9.7)\n"
          ]
        }
      ],
      "source": [
        "!pip install pyspark"
      ]
    },
    {
      "cell_type": "code",
      "source": [
        "from pyspark.sql import SparkSession"
      ],
      "metadata": {
        "id": "s-mRGDRqLR9k"
      },
      "execution_count": 18,
      "outputs": []
    },
    {
      "cell_type": "code",
      "source": [
        "spark = SparkSession.builder.appName(\"customer segmentation\").config(\"spark.memory.offHeap.enabled\",\"true\").config(\"spark.memory.offHeap.size\",\"10g\").getOrCreate()"
      ],
      "metadata": {
        "id": "FVq09S8ILZnr"
      },
      "execution_count": 19,
      "outputs": []
    },
    {
      "cell_type": "code",
      "source": [
        "df=spark.read.option(\"header\",True).option(\"escape\",\"\\\"\").csv(\"/content/ecomm1.csv\")"
      ],
      "metadata": {
        "id": "6rtnJLHDMD0V"
      },
      "execution_count": 20,
      "outputs": []
    },
    {
      "cell_type": "code",
      "source": [
        "df.show(100,0)"
      ],
      "metadata": {
        "colab": {
          "base_uri": "https://localhost:8080/"
        },
        "id": "acaw7CtyMkXo",
        "outputId": "5309bfa8-5731-4717-8cc2-e2f9634791b9"
      },
      "execution_count": 21,
      "outputs": [
        {
          "output_type": "stream",
          "name": "stdout",
          "text": [
            "+---------+---------+-----------------------------------+--------+--------------+---------+----------+--------------+\n",
            "|InvoiceNo|StockCode|Description                        |Quantity|InvoiceDate   |UnitPrice|CustomerID|Country       |\n",
            "+---------+---------+-----------------------------------+--------+--------------+---------+----------+--------------+\n",
            "|536365   |85123A   |WHITE HANGING HEART T-LIGHT HOLDER |6       |12/1/2010 8:26|2.55     |17850     |United Kingdom|\n",
            "|536365   |71053    |WHITE METAL LANTERN                |6       |12/1/2010 8:26|3.39     |17850     |United Kingdom|\n",
            "|536365   |84406B   |CREAM CUPID HEARTS COAT HANGER     |8       |12/1/2010 8:26|2.75     |17850     |United Kingdom|\n",
            "|536365   |84029G   |KNITTED UNION FLAG HOT WATER BOTTLE|6       |12/1/2010 8:26|3.39     |17850     |United Kingdom|\n",
            "|536365   |84029E   |RED WOOLLY HOTTIE WHITE HEART.     |6       |12/1/2010 8:26|3.39     |17850     |United Kingdom|\n",
            "|536365   |22752    |SET 7 BABUSHKA NESTING BOXES       |2       |12/1/2010 8:26|7.65     |17850     |United Kingdom|\n",
            "|536365   |21730    |GLASS STAR FROSTED T-LIGHT HOLDER  |6       |12/1/2010 8:26|4.25     |17850     |United Kingdom|\n",
            "|536366   |22633    |HAND WARMER UNION JACK             |6       |12/1/2010 8:28|1.85     |17850     |United Kingdom|\n",
            "|536366   |22632    |HAND WARMER RED POLKA DOT          |6       |12/1/2010 8:28|1.85     |17850     |United Kingdom|\n",
            "|536367   |84879    |ASSORTED COLOUR BIRD ORNAMENT      |32      |12/1/2010 8:34|1.69     |13047     |United Kingdom|\n",
            "|536367   |22745    |POPPY'S PLAYHOUSE BEDROOM          |6       |12/1/2010 8:34|2.1      |13047     |United Kingdom|\n",
            "|536367   |22748    |POPPY'S PLAYHOUSE KITCHEN          |6       |12/1/2010 8:34|2.1      |13047     |United Kingdom|\n",
            "|536367   |22749    |FELTCRAFT PRINCESS CHARLOTTE DOLL  |8       |12/1/2010 8:34|3.75     |13047     |United Kingdom|\n",
            "|536367   |22310    |IVORY KNITTED MUG COSY             |6       |12/1/2010 8:34|1.65     |13047     |United Kingdom|\n",
            "|536367   |84969    |BOX OF 6 ASSORTED COLOUR TEASPOONS |6       |12/1/2010 8:34|4.25     |13047     |United Kingdom|\n",
            "|536367   |22623    |BOX OF VINTAGE JIGSAW BLOCKS       |3       |12/1/2010 8:34|4.95     |13047     |United Kingdom|\n",
            "|536367   |22622    |BOX OF VINTAGE ALPHABET BLOCKS     |2       |12/1/2010 8:34|9.95     |13047     |United Kingdom|\n",
            "|536367   |21754    |HOME BUILDING BLOCK WORD           |3       |12/1/2010 8:34|5.95     |13047     |United Kingdom|\n",
            "|536367   |21755    |LOVE BUILDING BLOCK WORD           |3       |12/1/2010 8:34|5.95     |13047     |United Kingdom|\n",
            "|536367   |21777    |RECIPE BOX WITH METAL HEART        |4       |12/1/2010 8:34|7.95     |13047     |United Kingdom|\n",
            "|536367   |48187    |DOORMAT NEW ENGLAND                |4       |12/1/2010 8:34|7.95     |13047     |United Kingdom|\n",
            "|536368   |22960    |JAM MAKING SET WITH JARS           |6       |12/1/2010 8:34|4.25     |13047     |United Kingdom|\n",
            "|536368   |22913    |RED COAT RACK PARIS FASHION        |3       |12/1/2010 8:34|4.95     |13047     |United Kingdom|\n",
            "|536368   |22912    |YELLOW COAT RACK PARIS FASHION     |3       |12/1/2010 8:34|4.95     |13047     |United Kingdom|\n",
            "|536368   |22914    |BLUE COAT RACK PARIS FASHION       |3       |12/1/2010 8:34|4.95     |13047     |United Kingdom|\n",
            "|536369   |21756    |BATH BUILDING BLOCK WORD           |3       |12/1/2010 8:35|5.95     |13047     |United Kingdom|\n",
            "|536370   |22728    |ALARM CLOCK BAKELIKE PINK          |24      |12/1/2010 8:45|3.75     |12583     |France        |\n",
            "|536370   |22727    |ALARM CLOCK BAKELIKE RED           |24      |12/1/2010 8:45|3.75     |12583     |France        |\n",
            "|536370   |22726    |ALARM CLOCK BAKELIKE GREEN         |12      |12/1/2010 8:45|3.75     |12583     |France        |\n",
            "|536370   |21724    |PANDA AND BUNNIES STICKER SHEET    |12      |12/1/2010 8:45|0.85     |12583     |France        |\n",
            "|536370   |21883    |STARS GIFT TAPE                    |24      |12/1/2010 8:45|0.65     |12583     |France        |\n",
            "|536370   |10002    |INFLATABLE POLITICAL GLOBE         |48      |12/1/2010 8:45|0.85     |12583     |France        |\n",
            "|536370   |21791    |VINTAGE HEADS AND TAILS CARD GAME  |24      |12/1/2010 8:45|1.25     |12583     |France        |\n",
            "|536370   |21035    |SET/2 RED RETROSPOT TEA TOWELS     |18      |12/1/2010 8:45|2.95     |12583     |France        |\n",
            "|536370   |22326    |ROUND SNACK BOXES SET OF4 WOODLAND |24      |12/1/2010 8:45|2.95     |12583     |France        |\n",
            "|536370   |22629    |SPACEBOY LUNCH BOX                 |24      |12/1/2010 8:45|1.95     |12583     |France        |\n",
            "|536370   |22659    |LUNCH BOX I LOVE LONDON            |24      |12/1/2010 8:45|1.95     |12583     |France        |\n",
            "|536370   |22631    |CIRCUS PARADE LUNCH BOX            |24      |12/1/2010 8:45|1.95     |12583     |France        |\n",
            "|536370   |22661    |CHARLOTTE BAG DOLLY GIRL DESIGN    |20      |12/1/2010 8:45|0.85     |12583     |France        |\n",
            "|536370   |21731    |RED TOADSTOOL LED NIGHT LIGHT      |24      |12/1/2010 8:45|1.65     |12583     |France        |\n",
            "|536370   |22900    | SET 2 TEA TOWELS I LOVE LONDON    |24      |12/1/2010 8:45|2.95     |12583     |France        |\n",
            "|536370   |21913    |VINTAGE SEASIDE JIGSAW PUZZLES     |12      |12/1/2010 8:45|3.75     |12583     |France        |\n",
            "|536370   |22540    |MINI JIGSAW CIRCUS PARADE          |24      |12/1/2010 8:45|0.42     |12583     |France        |\n",
            "|536370   |22544    |MINI JIGSAW SPACEBOY               |24      |12/1/2010 8:45|0.42     |12583     |France        |\n",
            "|536370   |22492    |MINI PAINT SET VINTAGE             |36      |12/1/2010 8:45|0.65     |12583     |France        |\n",
            "|536370   |POST     |POSTAGE                            |3       |12/1/2010 8:45|18       |12583     |France        |\n",
            "|536371   |22086    |PAPER CHAIN KIT 50'S CHRISTMAS     |80      |12/1/2010 9:00|2.55     |13748     |United Kingdom|\n",
            "|536372   |22632    |HAND WARMER RED POLKA DOT          |6       |12/1/2010 9:01|1.85     |17850     |United Kingdom|\n",
            "|536372   |22633    |HAND WARMER UNION JACK             |6       |12/1/2010 9:01|1.85     |17850     |United Kingdom|\n",
            "|536373   |85123A   |WHITE HANGING HEART T-LIGHT HOLDER |6       |12/1/2010 9:02|2.55     |17850     |United Kingdom|\n",
            "|536373   |71053    |WHITE METAL LANTERN                |6       |12/1/2010 9:02|3.39     |17850     |United Kingdom|\n",
            "|536373   |84406B   |CREAM CUPID HEARTS COAT HANGER     |8       |12/1/2010 9:02|2.75     |17850     |United Kingdom|\n",
            "|536373   |20679    |EDWARDIAN PARASOL RED              |6       |12/1/2010 9:02|4.95     |17850     |United Kingdom|\n",
            "|536373   |37370    |RETRO COFFEE MUGS ASSORTED         |6       |12/1/2010 9:02|1.06     |17850     |United Kingdom|\n",
            "|536373   |21871    |SAVE THE PLANET MUG                |6       |12/1/2010 9:02|1.06     |17850     |United Kingdom|\n",
            "|536373   |21071    |VINTAGE BILLBOARD DRINK ME MUG     |6       |12/1/2010 9:02|1.06     |17850     |United Kingdom|\n",
            "|536373   |21068    |VINTAGE BILLBOARD LOVE/HATE MUG    |6       |12/1/2010 9:02|1.06     |17850     |United Kingdom|\n",
            "|536373   |82483    |WOOD 2 DRAWER CABINET WHITE FINISH |2       |12/1/2010 9:02|4.95     |17850     |United Kingdom|\n",
            "|536373   |82486    |WOOD S/3 CABINET ANT WHITE FINISH  |4       |12/1/2010 9:02|6.95     |17850     |United Kingdom|\n",
            "|536373   |82482    |WOODEN PICTURE FRAME WHITE FINISH  |6       |12/1/2010 9:02|2.1      |17850     |United Kingdom|\n",
            "|536373   |82494L   |WOODEN FRAME ANTIQUE WHITE         |6       |12/1/2010 9:02|2.55     |17850     |United Kingdom|\n",
            "|536373   |84029G   |KNITTED UNION FLAG HOT WATER BOTTLE|6       |12/1/2010 9:02|3.39     |17850     |United Kingdom|\n",
            "|536373   |84029E   |RED WOOLLY HOTTIE WHITE HEART.     |6       |12/1/2010 9:02|3.39     |17850     |United Kingdom|\n",
            "|536373   |22752    |SET 7 BABUSHKA NESTING BOXES       |2       |12/1/2010 9:02|7.65     |17850     |United Kingdom|\n",
            "|536373   |21730    |GLASS STAR FROSTED T-LIGHT HOLDER  |6       |12/1/2010 9:02|4.25     |17850     |United Kingdom|\n",
            "|536374   |21258    |VICTORIAN SEWING BOX LARGE         |32      |12/1/2010 9:09|10.95    |15100     |United Kingdom|\n",
            "|536375   |85123A   |WHITE HANGING HEART T-LIGHT HOLDER |6       |12/1/2010 9:32|2.55     |17850     |United Kingdom|\n",
            "|536375   |71053    |WHITE METAL LANTERN                |6       |12/1/2010 9:32|3.39     |17850     |United Kingdom|\n",
            "|536375   |84406B   |CREAM CUPID HEARTS COAT HANGER     |8       |12/1/2010 9:32|2.75     |17850     |United Kingdom|\n",
            "|536375   |20679    |EDWARDIAN PARASOL RED              |6       |12/1/2010 9:32|4.95     |17850     |United Kingdom|\n",
            "|536375   |37370    |RETRO COFFEE MUGS ASSORTED         |6       |12/1/2010 9:32|1.06     |17850     |United Kingdom|\n",
            "|536375   |21871    |SAVE THE PLANET MUG                |6       |12/1/2010 9:32|1.06     |17850     |United Kingdom|\n",
            "|536375   |21071    |VINTAGE BILLBOARD DRINK ME MUG     |6       |12/1/2010 9:32|1.06     |17850     |United Kingdom|\n",
            "|536375   |21068    |VINTAGE BILLBOARD LOVE/HATE MUG    |6       |12/1/2010 9:32|1.06     |17850     |United Kingdom|\n",
            "|536375   |82483    |WOOD 2 DRAWER CABINET WHITE FINISH |2       |12/1/2010 9:32|4.95     |17850     |United Kingdom|\n",
            "|536375   |82486    |WOOD S/3 CABINET ANT WHITE FINISH  |4       |12/1/2010 9:32|6.95     |17850     |United Kingdom|\n",
            "|536375   |82482    |WOODEN PICTURE FRAME WHITE FINISH  |6       |12/1/2010 9:32|2.1      |17850     |United Kingdom|\n",
            "|536375   |82494L   |WOODEN FRAME ANTIQUE WHITE         |6       |12/1/2010 9:32|2.55     |17850     |United Kingdom|\n",
            "|536375   |84029G   |KNITTED UNION FLAG HOT WATER BOTTLE|6       |12/1/2010 9:32|3.39     |17850     |United Kingdom|\n",
            "|536375   |84029E   |RED WOOLLY HOTTIE WHITE HEART.     |6       |12/1/2010 9:32|3.39     |17850     |United Kingdom|\n",
            "|536375   |22752    |SET 7 BABUSHKA NESTING BOXES       |2       |12/1/2010 9:32|7.65     |17850     |United Kingdom|\n",
            "|536375   |21730    |GLASS STAR FROSTED T-LIGHT HOLDER  |6       |12/1/2010 9:32|4.25     |17850     |United Kingdom|\n",
            "|536376   |22114    |HOT WATER BOTTLE TEA AND SYMPATHY  |48      |12/1/2010 9:32|3.45     |15291     |United Kingdom|\n",
            "|536376   |21733    |RED HANGING HEART T-LIGHT HOLDER   |64      |12/1/2010 9:32|2.55     |15291     |United Kingdom|\n",
            "|536377   |22632    |HAND WARMER RED POLKA DOT          |6       |12/1/2010 9:34|1.85     |17850     |United Kingdom|\n",
            "|536377   |22633    |HAND WARMER UNION JACK             |6       |12/1/2010 9:34|1.85     |17850     |United Kingdom|\n",
            "|536378   |22386    |JUMBO BAG PINK POLKADOT            |10      |12/1/2010 9:37|1.95     |14688     |United Kingdom|\n",
            "|536378   |85099C   |JUMBO  BAG BAROQUE BLACK WHITE     |10      |12/1/2010 9:37|1.95     |14688     |United Kingdom|\n",
            "|536378   |21033    |JUMBO BAG CHARLIE AND LOLA TOYS    |10      |12/1/2010 9:37|2.95     |14688     |United Kingdom|\n",
            "|536378   |20723    |STRAWBERRY CHARLOTTE BAG           |10      |12/1/2010 9:37|0.85     |14688     |United Kingdom|\n",
            "|536378   |84997B   |RED 3 PIECE RETROSPOT CUTLERY SET  |12      |12/1/2010 9:37|3.75     |14688     |United Kingdom|\n",
            "|536378   |84997C   |BLUE 3 PIECE POLKADOT CUTLERY SET  |6       |12/1/2010 9:37|3.75     |14688     |United Kingdom|\n",
            "|536378   |21094    |SET/6 RED SPOTTY PAPER PLATES      |12      |12/1/2010 9:37|0.85     |14688     |United Kingdom|\n",
            "|536378   |20725    |LUNCH BAG RED RETROSPOT            |10      |12/1/2010 9:37|1.65     |14688     |United Kingdom|\n",
            "|536378   |21559    |STRAWBERRY LUNCH BOX WITH CUTLERY  |6       |12/1/2010 9:37|2.55     |14688     |United Kingdom|\n",
            "|536378   |22352    |LUNCH BOX WITH CUTLERY RETROSPOT   |6       |12/1/2010 9:37|2.55     |14688     |United Kingdom|\n",
            "|536378   |21212    |PACK OF 72 RETROSPOT CAKE CASES    |120     |12/1/2010 9:37|0.42     |14688     |United Kingdom|\n",
            "|536378   |21975    |PACK OF 60 DINOSAUR CAKE CASES     |24      |12/1/2010 9:37|0.55     |14688     |United Kingdom|\n",
            "|536378   |21977    |PACK OF 60 PINK PAISLEY CAKE CASES |24      |12/1/2010 9:37|0.55     |14688     |United Kingdom|\n",
            "|536378   |84991    |60 TEATIME FAIRY CAKE CASES        |24      |12/1/2010 9:37|0.55     |14688     |United Kingdom|\n",
            "+---------+---------+-----------------------------------+--------+--------------+---------+----------+--------------+\n",
            "only showing top 100 rows\n",
            "\n"
          ]
        }
      ]
    },
    {
      "cell_type": "markdown",
      "source": [
        "**Exploratory Data Analysis**"
      ],
      "metadata": {
        "id": "ANgRAtuuOBwr"
      }
    },
    {
      "cell_type": "code",
      "source": [
        "#Getting the number of rows in the dataframe\n",
        "df.count()"
      ],
      "metadata": {
        "colab": {
          "base_uri": "https://localhost:8080/"
        },
        "id": "Yoa0XsRbNa4V",
        "outputId": "148e2de0-43e0-4638-b9b0-0bb1988af7e6"
      },
      "execution_count": 22,
      "outputs": [
        {
          "output_type": "execute_result",
          "data": {
            "text/plain": [
              "2499"
            ]
          },
          "metadata": {},
          "execution_count": 22
        }
      ]
    },
    {
      "cell_type": "code",
      "source": [
        "#Getting the number of unique customers in the dataframe\n",
        "df.select(\"CustomerID\").distinct().count()"
      ],
      "metadata": {
        "colab": {
          "base_uri": "https://localhost:8080/"
        },
        "id": "IQrKlvDrORUN",
        "outputId": "b3a40501-fd42-4d59-c758-8c9618c85918"
      },
      "execution_count": 23,
      "outputs": [
        {
          "output_type": "execute_result",
          "data": {
            "text/plain": [
              "95"
            ]
          },
          "metadata": {},
          "execution_count": 23
        }
      ]
    },
    {
      "cell_type": "code",
      "source": [
        "#Getting the country from which most purchases come\n",
        "from pyspark.sql.functions import *\n",
        "from pyspark.sql.types import*\n",
        "df.groupBy('Country').agg(countDistinct('CustomerID').alias('country_count')).orderBy(desc('country_count')).show()"
      ],
      "metadata": {
        "colab": {
          "base_uri": "https://localhost:8080/"
        },
        "id": "HNffLWlzOyUC",
        "outputId": "89c32770-2705-41fe-b209-42f00e7657d7"
      },
      "execution_count": 24,
      "outputs": [
        {
          "output_type": "stream",
          "name": "stdout",
          "text": [
            "+--------------+-------------+\n",
            "|       Country|country_count|\n",
            "+--------------+-------------+\n",
            "|United Kingdom|           87|\n",
            "|       Germany|            2|\n",
            "|        France|            1|\n",
            "|          EIRE|            1|\n",
            "|        Norway|            1|\n",
            "|     Australia|            1|\n",
            "|   Netherlands|            1|\n",
            "+--------------+-------------+\n",
            "\n"
          ]
        }
      ]
    },
    {
      "cell_type": "code",
      "source": [
        "spark.sql(\"set spark.sql.legacy.timeParserPolicy=LEGACY\")\n",
        "df = df.withColumn('date',to_timestamp(\"InvoiceDate\", 'mm/DD/yyy HH:mm'))\n",
        "df.select(max(\"date\")).show()"
      ],
      "metadata": {
        "colab": {
          "base_uri": "https://localhost:8080/"
        },
        "id": "7UgxwG0lRDTw",
        "outputId": "a093bf67-c6c1-4aa1-feb7-ee395b7b8521"
      },
      "execution_count": 28,
      "outputs": [
        {
          "output_type": "stream",
          "name": "stdout",
          "text": [
            "+-------------------+\n",
            "|          max(date)|\n",
            "+-------------------+\n",
            "|2010-01-01 17:06:00|\n",
            "+-------------------+\n",
            "\n"
          ]
        }
      ]
    },
    {
      "cell_type": "code",
      "source": [
        "spark.sql(\"set spark.sql.legacy.timeParserPolicy=LEGACY\")\n",
        "df = df.withColumn('date',to_timestamp(\"InvoiceDate\", 'mm/DD/yyy HH:mm'))\n",
        "df.select(min(\"date\")).show()"
      ],
      "metadata": {
        "colab": {
          "base_uri": "https://localhost:8080/"
        },
        "id": "VxFISNFoVtKf",
        "outputId": "89894e8e-708f-4eb9-90b2-0a2cd1662587"
      },
      "execution_count": 29,
      "outputs": [
        {
          "output_type": "stream",
          "name": "stdout",
          "text": [
            "+-------------------+\n",
            "|          min(date)|\n",
            "+-------------------+\n",
            "|2010-01-01 08:26:00|\n",
            "+-------------------+\n",
            "\n"
          ]
        }
      ]
    },
    {
      "cell_type": "markdown",
      "source": [
        "**Data Pre Processing**"
      ],
      "metadata": {
        "id": "QROearq-Xr91"
      }
    },
    {
      "cell_type": "code",
      "source": [
        "df.show(20,0)"
      ],
      "metadata": {
        "colab": {
          "base_uri": "https://localhost:8080/"
        },
        "id": "NmXACkc1Xy3r",
        "outputId": "846e1166-bb7c-4a75-9789-028f8b1a88ba"
      },
      "execution_count": 30,
      "outputs": [
        {
          "output_type": "stream",
          "name": "stdout",
          "text": [
            "+---------+---------+-----------------------------------+--------+--------------+---------+----------+--------------+-------------------+\n",
            "|InvoiceNo|StockCode|Description                        |Quantity|InvoiceDate   |UnitPrice|CustomerID|Country       |date               |\n",
            "+---------+---------+-----------------------------------+--------+--------------+---------+----------+--------------+-------------------+\n",
            "|536365   |85123A   |WHITE HANGING HEART T-LIGHT HOLDER |6       |12/1/2010 8:26|2.55     |17850     |United Kingdom|2010-01-01 08:26:00|\n",
            "|536365   |71053    |WHITE METAL LANTERN                |6       |12/1/2010 8:26|3.39     |17850     |United Kingdom|2010-01-01 08:26:00|\n",
            "|536365   |84406B   |CREAM CUPID HEARTS COAT HANGER     |8       |12/1/2010 8:26|2.75     |17850     |United Kingdom|2010-01-01 08:26:00|\n",
            "|536365   |84029G   |KNITTED UNION FLAG HOT WATER BOTTLE|6       |12/1/2010 8:26|3.39     |17850     |United Kingdom|2010-01-01 08:26:00|\n",
            "|536365   |84029E   |RED WOOLLY HOTTIE WHITE HEART.     |6       |12/1/2010 8:26|3.39     |17850     |United Kingdom|2010-01-01 08:26:00|\n",
            "|536365   |22752    |SET 7 BABUSHKA NESTING BOXES       |2       |12/1/2010 8:26|7.65     |17850     |United Kingdom|2010-01-01 08:26:00|\n",
            "|536365   |21730    |GLASS STAR FROSTED T-LIGHT HOLDER  |6       |12/1/2010 8:26|4.25     |17850     |United Kingdom|2010-01-01 08:26:00|\n",
            "|536366   |22633    |HAND WARMER UNION JACK             |6       |12/1/2010 8:28|1.85     |17850     |United Kingdom|2010-01-01 08:28:00|\n",
            "|536366   |22632    |HAND WARMER RED POLKA DOT          |6       |12/1/2010 8:28|1.85     |17850     |United Kingdom|2010-01-01 08:28:00|\n",
            "|536367   |84879    |ASSORTED COLOUR BIRD ORNAMENT      |32      |12/1/2010 8:34|1.69     |13047     |United Kingdom|2010-01-01 08:34:00|\n",
            "|536367   |22745    |POPPY'S PLAYHOUSE BEDROOM          |6       |12/1/2010 8:34|2.1      |13047     |United Kingdom|2010-01-01 08:34:00|\n",
            "|536367   |22748    |POPPY'S PLAYHOUSE KITCHEN          |6       |12/1/2010 8:34|2.1      |13047     |United Kingdom|2010-01-01 08:34:00|\n",
            "|536367   |22749    |FELTCRAFT PRINCESS CHARLOTTE DOLL  |8       |12/1/2010 8:34|3.75     |13047     |United Kingdom|2010-01-01 08:34:00|\n",
            "|536367   |22310    |IVORY KNITTED MUG COSY             |6       |12/1/2010 8:34|1.65     |13047     |United Kingdom|2010-01-01 08:34:00|\n",
            "|536367   |84969    |BOX OF 6 ASSORTED COLOUR TEASPOONS |6       |12/1/2010 8:34|4.25     |13047     |United Kingdom|2010-01-01 08:34:00|\n",
            "|536367   |22623    |BOX OF VINTAGE JIGSAW BLOCKS       |3       |12/1/2010 8:34|4.95     |13047     |United Kingdom|2010-01-01 08:34:00|\n",
            "|536367   |22622    |BOX OF VINTAGE ALPHABET BLOCKS     |2       |12/1/2010 8:34|9.95     |13047     |United Kingdom|2010-01-01 08:34:00|\n",
            "|536367   |21754    |HOME BUILDING BLOCK WORD           |3       |12/1/2010 8:34|5.95     |13047     |United Kingdom|2010-01-01 08:34:00|\n",
            "|536367   |21755    |LOVE BUILDING BLOCK WORD           |3       |12/1/2010 8:34|5.95     |13047     |United Kingdom|2010-01-01 08:34:00|\n",
            "|536367   |21777    |RECIPE BOX WITH METAL HEART        |4       |12/1/2010 8:34|7.95     |13047     |United Kingdom|2010-01-01 08:34:00|\n",
            "+---------+---------+-----------------------------------+--------+--------------+---------+----------+--------------+-------------------+\n",
            "only showing top 20 rows\n",
            "\n"
          ]
        }
      ]
    },
    {
      "cell_type": "code",
      "source": [
        "#Assign a RECENCY score to each customer\n",
        "df = df.withColumn(\"from_date\", lit('12/1/10  08:26'))\n",
        "df = df.withColumn('from_date',to_timestamp(\"from_date\", 'yy/MM/dd HH:mm'))\n",
        "df2 = df.withColumn(\"Recency\", col(\"from_date\").cast(\"long\")-col(\"date\").cast(\"long\"))\n",
        "df2 = df2.join(df2.groupBy('CustomerID').agg(max('recency').alias('recency')),on='recency',how='leftsemi')\n",
        "df2.show(5,0)"
      ],
      "metadata": {
        "colab": {
          "base_uri": "https://localhost:8080/"
        },
        "id": "UlhTtijaX7vM",
        "outputId": "9e155689-8495-4534-85af-8c7b1d1abecf"
      },
      "execution_count": 31,
      "outputs": [
        {
          "output_type": "stream",
          "name": "stdout",
          "text": [
            "+--------+---------+---------+-----------------------------------+--------+--------------+---------+----------+--------------+-------------------+-------------------+\n",
            "|Recency |InvoiceNo|StockCode|Description                        |Quantity|InvoiceDate   |UnitPrice|CustomerID|Country       |date               |from_date          |\n",
            "+--------+---------+---------+-----------------------------------+--------+--------------+---------+----------+--------------+-------------------+-------------------+\n",
            "|63849600|536365   |85123A   |WHITE HANGING HEART T-LIGHT HOLDER |6       |12/1/2010 8:26|2.55     |17850     |United Kingdom|2010-01-01 08:26:00|2012-01-10 08:26:00|\n",
            "|63849600|536365   |71053    |WHITE METAL LANTERN                |6       |12/1/2010 8:26|3.39     |17850     |United Kingdom|2010-01-01 08:26:00|2012-01-10 08:26:00|\n",
            "|63849600|536365   |84406B   |CREAM CUPID HEARTS COAT HANGER     |8       |12/1/2010 8:26|2.75     |17850     |United Kingdom|2010-01-01 08:26:00|2012-01-10 08:26:00|\n",
            "|63849600|536365   |84029G   |KNITTED UNION FLAG HOT WATER BOTTLE|6       |12/1/2010 8:26|3.39     |17850     |United Kingdom|2010-01-01 08:26:00|2012-01-10 08:26:00|\n",
            "|63849600|536365   |84029E   |RED WOOLLY HOTTIE WHITE HEART.     |6       |12/1/2010 8:26|3.39     |17850     |United Kingdom|2010-01-01 08:26:00|2012-01-10 08:26:00|\n",
            "+--------+---------+---------+-----------------------------------+--------+--------------+---------+----------+--------------+-------------------+-------------------+\n",
            "only showing top 5 rows\n",
            "\n"
          ]
        }
      ]
    },
    {
      "cell_type": "code",
      "source": [
        "df.printSchema()"
      ],
      "metadata": {
        "colab": {
          "base_uri": "https://localhost:8080/"
        },
        "id": "_732gPI3duf0",
        "outputId": "42a2907c-555d-4998-afe0-f44cd0eb7614"
      },
      "execution_count": 32,
      "outputs": [
        {
          "output_type": "stream",
          "name": "stdout",
          "text": [
            "root\n",
            " |-- InvoiceNo: string (nullable = true)\n",
            " |-- StockCode: string (nullable = true)\n",
            " |-- Description: string (nullable = true)\n",
            " |-- Quantity: string (nullable = true)\n",
            " |-- InvoiceDate: string (nullable = true)\n",
            " |-- UnitPrice: string (nullable = true)\n",
            " |-- CustomerID: string (nullable = true)\n",
            " |-- Country: string (nullable = true)\n",
            " |-- date: timestamp (nullable = true)\n",
            " |-- from_date: timestamp (nullable = true)\n",
            "\n"
          ]
        }
      ]
    },
    {
      "cell_type": "markdown",
      "source": [
        "**Frequency**"
      ],
      "metadata": {
        "id": "-zjftXcGrcod"
      }
    },
    {
      "cell_type": "code",
      "source": [
        "df_freq=df2.groupBy('CustomerID').agg(count('InvoiceDate').alias('Frequency'))\n",
        "df_freq.show(5,0)"
      ],
      "metadata": {
        "colab": {
          "base_uri": "https://localhost:8080/"
        },
        "id": "zNcHSaxLrHAE",
        "outputId": "3672380a-d85f-416f-dced-4ffa04626d9b"
      },
      "execution_count": 33,
      "outputs": [
        {
          "output_type": "stream",
          "name": "stdout",
          "text": [
            "+----------+---------+\n",
            "|CustomerID|Frequency|\n",
            "+----------+---------+\n",
            "|16250     |14       |\n",
            "|15100     |1        |\n",
            "|13065     |14       |\n",
            "|12838     |59       |\n",
            "|15350     |5        |\n",
            "+----------+---------+\n",
            "only showing top 5 rows\n",
            "\n"
          ]
        }
      ]
    },
    {
      "cell_type": "code",
      "source": [
        "df3=df2.join(df_freq,on=\"CustomerID\", how=\"inner\")"
      ],
      "metadata": {
        "id": "jNglgUPWr5rm"
      },
      "execution_count": 34,
      "outputs": []
    },
    {
      "cell_type": "code",
      "source": [
        "df3.printSchema()"
      ],
      "metadata": {
        "colab": {
          "base_uri": "https://localhost:8080/"
        },
        "id": "SscOInkFueQt",
        "outputId": "4e0d5066-b9c1-4625-e5c8-353a23ceb69c"
      },
      "execution_count": 35,
      "outputs": [
        {
          "output_type": "stream",
          "name": "stdout",
          "text": [
            "root\n",
            " |-- CustomerID: string (nullable = true)\n",
            " |-- Recency: long (nullable = true)\n",
            " |-- InvoiceNo: string (nullable = true)\n",
            " |-- StockCode: string (nullable = true)\n",
            " |-- Description: string (nullable = true)\n",
            " |-- Quantity: string (nullable = true)\n",
            " |-- InvoiceDate: string (nullable = true)\n",
            " |-- UnitPrice: string (nullable = true)\n",
            " |-- Country: string (nullable = true)\n",
            " |-- date: timestamp (nullable = true)\n",
            " |-- from_date: timestamp (nullable = true)\n",
            " |-- Frequency: long (nullable = false)\n",
            "\n"
          ]
        }
      ]
    },
    {
      "cell_type": "markdown",
      "source": [
        "**Monetary Value**"
      ],
      "metadata": {
        "id": "8qMy64GBu7CJ"
      }
    },
    {
      "cell_type": "code",
      "source": [
        "#Find the total amountspent by each customer\n",
        "#We use col(\"CustomerID\"), col(\"Quantity\") and col(\"Unit Price\")"
      ],
      "metadata": {
        "id": "FuZSgG90uvFV"
      },
      "execution_count": 36,
      "outputs": []
    },
    {
      "cell_type": "code",
      "source": [
        "m_val=df3.withColumn(\"TotalAmount\", col(\"Quantity\")*col(\"UnitPrice\"))"
      ],
      "metadata": {
        "id": "H2R3sWU9vkSJ"
      },
      "execution_count": 37,
      "outputs": []
    },
    {
      "cell_type": "code",
      "source": [
        "m_val=m_val.groupBy('CustomerID').agg(sum('TotalAmount').alias('Monetary_Value'))"
      ],
      "metadata": {
        "id": "CMztkxEbwSC5"
      },
      "execution_count": 38,
      "outputs": []
    },
    {
      "cell_type": "code",
      "source": [
        "#Merge m_val with all the other variables\n",
        "final_df=m_val.join(df3, on='CustomerID', how='inner')"
      ],
      "metadata": {
        "id": "muRr9XdnwiQP"
      },
      "execution_count": 39,
      "outputs": []
    },
    {
      "cell_type": "code",
      "source": [
        "final_df = final_df.select(['recency','frequency','monetary_value','CustomerID']).distinct()"
      ],
      "metadata": {
        "id": "Voy5BkNByG4-"
      },
      "execution_count": 40,
      "outputs": []
    },
    {
      "cell_type": "code",
      "source": [
        "final_df.show(5,0)"
      ],
      "metadata": {
        "colab": {
          "base_uri": "https://localhost:8080/"
        },
        "id": "NYhTDvEMzbiL",
        "outputId": "e27fd93f-5cb5-4889-9926-d54f892bbf83"
      },
      "execution_count": 41,
      "outputs": [
        {
          "output_type": "stream",
          "name": "stdout",
          "text": [
            "+--------+---------+------------------+----------+\n",
            "|recency |frequency|monetary_value    |CustomerID|\n",
            "+--------+---------+------------------+----------+\n",
            "|63844020|14       |226.14            |16250     |\n",
            "|63847020|1        |350.4             |15100     |\n",
            "|63819240|14       |205.85999999999999|13065     |\n",
            "|63836940|59       |390.78999999999985|12838     |\n",
            "|63831180|5        |115.65            |15350     |\n",
            "+--------+---------+------------------+----------+\n",
            "only showing top 5 rows\n",
            "\n"
          ]
        }
      ]
    },
    {
      "cell_type": "code",
      "source": [
        "from pyspark.ml.feature import VectorAssembler\n",
        "from pyspark.ml.feature import StandardScaler\n",
        "assemble=VectorAssembler(inputCols=[\n",
        "    'recency','frequency','monetary_value'\n",
        "], outputCol='features')\n",
        "assembled_data=assemble.transform(final_df)\n",
        "scale=StandardScaler(inputCol='features',outputCol='standardized')\n",
        "data_scale=scale.fit(assembled_data)\n",
        "data_scale_output=data_scale.transform(assembled_data)"
      ],
      "metadata": {
        "id": "1FMui6nX300e"
      },
      "execution_count": 42,
      "outputs": []
    },
    {
      "cell_type": "code",
      "source": [
        "data_scale_output.select('standardized').show(2,truncate=False)"
      ],
      "metadata": {
        "id": "71oOpbkq54fH",
        "colab": {
          "base_uri": "https://localhost:8080/"
        },
        "outputId": "e96b76b5-292b-4efa-a1c7-e26284e9043b"
      },
      "execution_count": 43,
      "outputs": [
        {
          "output_type": "stream",
          "name": "stdout",
          "text": [
            "+----------------------------------------------------------+\n",
            "|standardized                                              |\n",
            "+----------------------------------------------------------+\n",
            "|[7934.369236875642,0.7153160251818234,0.5314265800790532] |\n",
            "|[7934.742069095647,0.05109400179870167,0.8234362503745478]|\n",
            "+----------------------------------------------------------+\n",
            "only showing top 2 rows\n",
            "\n"
          ]
        }
      ]
    },
    {
      "cell_type": "markdown",
      "source": [
        "**Building the Machine Learning Model**"
      ],
      "metadata": {
        "id": "IHfC8dOG6O9B"
      }
    },
    {
      "cell_type": "code",
      "source": [
        "#Finding the number of clusters to use\n",
        "from pyspark.ml.clustering import KMeans\n",
        "from pyspark.ml.evaluation import ClusteringEvaluator\n",
        "import numpy as np\n",
        "\n",
        "cost = np.zeros(10)\n",
        "\n",
        "evaluator = ClusteringEvaluator(predictionCol='prediction', featuresCol='standardized',metricName='silhouette', distanceMeasure='squaredEuclidean')\n",
        "\n",
        "for i in range(2,10):\n",
        "    KMeans_algo=KMeans(featuresCol='standardized', k=i)\n",
        "    KMeans_fit=KMeans_algo.fit(data_scale_output)\n",
        "    output=KMeans_fit.transform(data_scale_output)\n",
        "    cost[i] = KMeans_fit.summary.trainingCost"
      ],
      "metadata": {
        "id": "JdINdmUL6JwU"
      },
      "execution_count": 44,
      "outputs": []
    },
    {
      "cell_type": "markdown",
      "source": [
        "With the codes above, we have successfully built and evaluated a K-Means clustering model with 2 to 10 clusters. The results have been placed in an array, and can now be visualized in a line chart:"
      ],
      "metadata": {
        "id": "y_MtU9rZ7AuG"
      }
    },
    {
      "cell_type": "code",
      "source": [
        "import pandas as pd\n",
        "import pylab as pl\n",
        "df_cost = pd.DataFrame(cost[2:])\n",
        "df_cost.columns = [\"cost\"]\n",
        "new_col = range(2,10)\n",
        "df_cost.insert(0, 'cluster', new_col)\n",
        "pl.plot(df_cost.cluster, df_cost.cost)\n",
        "pl.xlabel('Number of Clusters')\n",
        "pl.ylabel('Score')\n",
        "pl.title('Elbow Curve')\n",
        "pl.show()"
      ],
      "metadata": {
        "id": "WCbTFIwd6y2q",
        "colab": {
          "base_uri": "https://localhost:8080/",
          "height": 472
        },
        "outputId": "d10e3331-3733-4292-8881-b836e8330bf3"
      },
      "execution_count": 45,
      "outputs": [
        {
          "output_type": "display_data",
          "data": {
            "text/plain": [
              "<Figure size 640x480 with 1 Axes>"
            ],
            "image/png": "[encoded data removed]"
          },
          "metadata": {}
        }
      ]
    },
    {
      "cell_type": "markdown",
      "source": [
        "**Building the K-Means Clustering Model**"
      ],
      "metadata": {
        "id": "NQrucWl07eYp"
      }
    },
    {
      "cell_type": "markdown",
      "source": [
        "From the plot above, we can see that there is an inflection point that looks like an elbow at four. Due to this, we will proceed to build the K-Means algorithm with four clusters:"
      ],
      "metadata": {
        "id": "pxKBQ_k97iXy"
      }
    },
    {
      "cell_type": "code",
      "source": [
        "KMeans_algo=KMeans(featuresCol='standardized', k=4)\n",
        "KMeans_fit=KMeans_algo.fit(data_scale_output)"
      ],
      "metadata": {
        "id": "uHOZ3lhm7UNP"
      },
      "execution_count": 46,
      "outputs": []
    },
    {
      "cell_type": "markdown",
      "source": [
        "**Making Predictions**"
      ],
      "metadata": {
        "id": "ZUGU5LIg8OF6"
      }
    },
    {
      "cell_type": "code",
      "source": [
        "preds=KMeans_fit.transform(data_scale_output)\n",
        "\n",
        "preds.show(5,0)"
      ],
      "metadata": {
        "id": "i1nHTdsA8NDR",
        "colab": {
          "base_uri": "https://localhost:8080/"
        },
        "outputId": "1a2821d1-7aac-46fb-8e74-da0814b7a0f9"
      },
      "execution_count": 47,
      "outputs": [
        {
          "output_type": "stream",
          "name": "stdout",
          "text": [
            "+--------+---------+------------------+----------+------------------------------------+----------------------------------------------------------+----------+\n",
            "|recency |frequency|monetary_value    |CustomerID|features                            |standardized                                              |prediction|\n",
            "+--------+---------+------------------+----------+------------------------------------+----------------------------------------------------------+----------+\n",
            "|63844020|14       |226.14            |16250     |[6.384402E7,14.0,226.14]            |[7934.369236875642,0.7153160251818234,0.5314265800790532] |0         |\n",
            "|63847020|1        |350.4             |15100     |[6.384702E7,1.0,350.4]              |[7934.742069095647,0.05109400179870167,0.8234362503745478]|0         |\n",
            "|63819240|14       |205.85999999999999|13065     |[6.381924E7,14.0,205.85999999999999]|[7931.289642738403,0.7153160251818234,0.48376879709504683]|1         |\n",
            "|63836940|59       |390.78999999999985|12838     |[6.383694E7,59.0,390.78999999999985]|[7933.489352836431,3.0145461061233982,0.9183523181617278] |2         |\n",
            "|63831180|5        |115.65            |15350     |[6.383118E7,5.0,115.65]             |[7932.773514974022,0.25547000899350836,0.2717762624309831]|1         |\n",
            "+--------+---------+------------------+----------+------------------------------------+----------------------------------------------------------+----------+\n",
            "only showing top 5 rows\n",
            "\n"
          ]
        }
      ]
    },
    {
      "cell_type": "markdown",
      "source": [
        "**Cluster Analysis**"
      ],
      "metadata": {
        "id": "3yHiBKCG80jg"
      }
    },
    {
      "cell_type": "code",
      "source": [
        "import matplotlib.pyplot as plt\n",
        "import seaborn as sns\n",
        "\n",
        "df_viz = preds.select('recency','frequency','monetary_value','prediction')\n",
        "df_viz = df_viz.toPandas()\n",
        "avg_df = df_viz.groupby(['prediction'], as_index=False).mean()\n",
        "\n",
        "list1 = ['recency','frequency','monetary_value']\n",
        "\n",
        "for i in list1:\n",
        "    sns.barplot(x='prediction',y=str(i),data=avg_df)\n",
        "    plt.show()"
      ],
      "metadata": {
        "id": "aQC_ghZ78iYN",
        "colab": {
          "base_uri": "https://localhost:8080/",
          "height": 1000
        },
        "outputId": "a1879e99-4cf4-4acf-da4c-87fa3b442d33"
      },
      "execution_count": 48,
      "outputs": [
        {
          "output_type": "display_data",
          "data": {
            "text/plain": [
              "<Figure size 640x480 with 1 Axes>"
            ],
            "image/png": "[encoded data removed]"
          },
          "metadata": {}
        },
        {
          "output_type": "display_data",
          "data": {
            "text/plain": [
              "<Figure size 640x480 with 1 Axes>"
            ],
            "image/png": "[encoded data removed]"
          },
          "metadata": {}
        },
        {
          "output_type": "display_data",
          "data": {
            "text/plain": [
              "<Figure size 640x480 with 1 Axes>"
            ],
            "image/png": "[encoded data removed]"
          },
          "metadata": {}
        }
      ]
    },
    {
      "cell_type": "code",
      "source": [],
      "metadata": {
        "id": "4d5389Jw9OwU"
      },
      "execution_count": null,
      "outputs": []
    },
    {
      "cell_type": "markdown",
      "source": [
        "**Interpretation**"
      ],
      "metadata": {
        "id": "PRLluhaN9p8D"
      }
    },
    {
      "cell_type": "markdown",
      "source": [
        "Here is an overview of characteristics displayed by customers in each cluster:\n",
        "\n",
        "Cluster 0: Customers in this segment display low recency, frequency, and monetary value. They rarely shop on the platform and are low potential customers who are likely to stop doing business with the ecommerce company.\n",
        "\n",
        "Cluster 1: Users in this cluster display high recency but haven’t been seen spending much on the platform. They also don’t visit the site often. This indicates that they might be newer customers who have just started doing business with the company.\n",
        "\n",
        "Cluster 2: Customers in this segment display medium recency and frequency and spend a lot of money on the platform. This indicates that they tend to buy high-value items or make bulk purchases.\n",
        "\n",
        "Cluster 3: The final segment comprises users who display high recency and make frequent purchases on the platform. However, they don’t spend much on the platform, which might mean that they tend to select cheaper items in each purchase."
      ],
      "metadata": {
        "id": "HUB9zOZ_9vxD"
      }
    },
    {
      "cell_type": "code",
      "source": [
        "#stop session\n",
        "\n",
        "spark.stop()\n"
      ],
      "metadata": {
        "id": "NMBO-pNe9uBK"
      },
      "execution_count": 49,
      "outputs": []
    }
  ]
}